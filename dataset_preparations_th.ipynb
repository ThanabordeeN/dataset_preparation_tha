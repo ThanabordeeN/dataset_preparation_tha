{
 "cells": [
  {
   "cell_type": "markdown",
   "metadata": {},
   "source": [
    "# Dataset Translation and Preparations to Thai Language By #AI\n"
   ]
  },
  {
   "cell_type": "markdown",
   "metadata": {},
   "source": [
    "### Utilize Requirements package"
   ]
  },
  {
   "cell_type": "code",
   "execution_count": 2,
   "metadata": {},
   "outputs": [],
   "source": [
    "import asyncio\n",
    "from ollama import AsyncClient\n",
    "from datasets import load_dataset\n",
    "import pandas as pd"
   ]
  },
  {
   "cell_type": "markdown",
   "metadata": {},
   "source": [
    "### Functions translate text to thai"
   ]
  },
  {
   "cell_type": "code",
   "execution_count": 3,
   "metadata": {},
   "outputs": [],
   "source": [
    "\n",
    "async def translate_to_thai(text):\n",
    "    \"\"\"\n",
    "    Translates text from any language into Thai using the llama3.1 model.\n",
    "\n",
    "    Args:\n",
    "        text (str): The text to be translated.\n",
    "\n",
    "    Returns:\n",
    "        str: The translated Thai text.\n",
    "    \"\"\"\n",
    "    res = await AsyncClient().generate(model=\"llama3.1:latest\",\n",
    "                   system=\"\"\"# System\n",
    "        You are a professional translator specializing in translating text from any language into Thai. Your goal is to produce natural-sounding Thai translations that use common, everyday language and phrases.\n",
    "        \n",
    "        # Instructions:\n",
    "        * Translate the text accurately and completely.\n",
    "        * Maintain Nouns In English\n",
    "        * Keep Sticky and Correctly Thai Grammar \n",
    "        * Employ real-world usage and common phrases. Think like a native Thai speaker and choose words and sentences that they would use in everyday conversations.\n",
    "        Maintain the intended tone and meaning of the original text. If the original text is humorous, informal, or formal, reflect that in your translation.\n",
    "\n",
    "        # Output Format\n",
    "        translations output\n",
    "\n",
    "        # Example \n",
    "        Text to translate : \"Generate a list of ten items a person might need for a camping trip\"\n",
    "        สร้างรายการที่จำเป็น 10 รายการสำหรับการท่องเที่ยวในพื้นที่ป่าไม้\n",
    "        \n",
    "        Text to translate : \"Explain the use of word embeddings in Natural Language Processing\"\n",
    "        อธิบายการใช้คำที่ฝังอยู่ในการประมวลผลภาษาธรรมชาติ\n",
    "        # Rule\n",
    "        * Answer Only Answer Without Additional explanation\n",
    "        \"\"\", \n",
    "        prompt=f\"Text to translate : \\\"{text}\\\"\"\n",
    "    )\n",
    "\n",
    "    return res['response']\n",
    "\n"
   ]
  },
  {
   "cell_type": "markdown",
   "metadata": {},
   "source": [
    "### Loading Dataset\n",
    "dataset can change to difference repo from huggingface"
   ]
  },
  {
   "cell_type": "code",
   "execution_count": 4,
   "metadata": {},
   "outputs": [],
   "source": [
    "dataset = load_dataset(\"yahma/alpaca-cleaned\",split=\"train\")"
   ]
  },
  {
   "cell_type": "markdown",
   "metadata": {},
   "source": [
    "### Convert Dataset to Dict"
   ]
  },
  {
   "cell_type": "code",
   "execution_count": 5,
   "metadata": {},
   "outputs": [
    {
     "data": {
      "text/html": [
       "<div>\n",
       "<style scoped>\n",
       "    .dataframe tbody tr th:only-of-type {\n",
       "        vertical-align: middle;\n",
       "    }\n",
       "\n",
       "    .dataframe tbody tr th {\n",
       "        vertical-align: top;\n",
       "    }\n",
       "\n",
       "    .dataframe thead th {\n",
       "        text-align: right;\n",
       "    }\n",
       "</style>\n",
       "<table border=\"1\" class=\"dataframe\">\n",
       "  <thead>\n",
       "    <tr style=\"text-align: right;\">\n",
       "      <th></th>\n",
       "      <th>output</th>\n",
       "      <th>input</th>\n",
       "      <th>instruction</th>\n",
       "    </tr>\n",
       "  </thead>\n",
       "  <tbody>\n",
       "    <tr>\n",
       "      <th>0</th>\n",
       "      <td>1. Eat a balanced and nutritious diet: Make su...</td>\n",
       "      <td></td>\n",
       "      <td>Give three tips for staying healthy.</td>\n",
       "    </tr>\n",
       "    <tr>\n",
       "      <th>1</th>\n",
       "      <td>The three primary colors are red, blue, and ye...</td>\n",
       "      <td></td>\n",
       "      <td>What are the three primary colors?</td>\n",
       "    </tr>\n",
       "    <tr>\n",
       "      <th>2</th>\n",
       "      <td>An atom is the basic building block of all mat...</td>\n",
       "      <td></td>\n",
       "      <td>Describe the structure of an atom.</td>\n",
       "    </tr>\n",
       "    <tr>\n",
       "      <th>3</th>\n",
       "      <td>There are several ways to reduce air pollution...</td>\n",
       "      <td></td>\n",
       "      <td>How can we reduce air pollution?</td>\n",
       "    </tr>\n",
       "    <tr>\n",
       "      <th>4</th>\n",
       "      <td>I had to make a difficult decision when I was ...</td>\n",
       "      <td></td>\n",
       "      <td>Pretend you are a project manager of a constru...</td>\n",
       "    </tr>\n",
       "  </tbody>\n",
       "</table>\n",
       "</div>"
      ],
      "text/plain": [
       "                                              output input  \\\n",
       "0  1. Eat a balanced and nutritious diet: Make su...         \n",
       "1  The three primary colors are red, blue, and ye...         \n",
       "2  An atom is the basic building block of all mat...         \n",
       "3  There are several ways to reduce air pollution...         \n",
       "4  I had to make a difficult decision when I was ...         \n",
       "\n",
       "                                         instruction  \n",
       "0               Give three tips for staying healthy.  \n",
       "1                 What are the three primary colors?  \n",
       "2                 Describe the structure of an atom.  \n",
       "3                   How can we reduce air pollution?  \n",
       "4  Pretend you are a project manager of a constru...  "
      ]
     },
     "execution_count": 5,
     "metadata": {},
     "output_type": "execute_result"
    }
   ],
   "source": [
    "df = dataset.to_dict()\n",
    "dataframe = pd.DataFrame(df)\n",
    "dataframe.head()"
   ]
  },
  {
   "cell_type": "markdown",
   "metadata": {},
   "source": [
    "### Check Columns"
   ]
  },
  {
   "cell_type": "code",
   "execution_count": 7,
   "metadata": {},
   "outputs": [
    {
     "data": {
      "text/plain": [
       "Index(['output', 'input', 'instruction'], dtype='object')"
      ]
     },
     "execution_count": 7,
     "metadata": {},
     "output_type": "execute_result"
    }
   ],
   "source": [
    "dataframe.columns"
   ]
  },
  {
   "cell_type": "markdown",
   "metadata": {},
   "source": [
    "### Slice for Trial"
   ]
  },
  {
   "cell_type": "code",
   "execution_count": 8,
   "metadata": {},
   "outputs": [
    {
     "data": {
      "text/html": [
       "<div>\n",
       "<style scoped>\n",
       "    .dataframe tbody tr th:only-of-type {\n",
       "        vertical-align: middle;\n",
       "    }\n",
       "\n",
       "    .dataframe tbody tr th {\n",
       "        vertical-align: top;\n",
       "    }\n",
       "\n",
       "    .dataframe thead th {\n",
       "        text-align: right;\n",
       "    }\n",
       "</style>\n",
       "<table border=\"1\" class=\"dataframe\">\n",
       "  <thead>\n",
       "    <tr style=\"text-align: right;\">\n",
       "      <th></th>\n",
       "      <th>output</th>\n",
       "      <th>input</th>\n",
       "      <th>instruction</th>\n",
       "    </tr>\n",
       "  </thead>\n",
       "  <tbody>\n",
       "    <tr>\n",
       "      <th>0</th>\n",
       "      <td>1. Eat a balanced and nutritious diet: Make su...</td>\n",
       "      <td></td>\n",
       "      <td>Give three tips for staying healthy.</td>\n",
       "    </tr>\n",
       "    <tr>\n",
       "      <th>1</th>\n",
       "      <td>The three primary colors are red, blue, and ye...</td>\n",
       "      <td></td>\n",
       "      <td>What are the three primary colors?</td>\n",
       "    </tr>\n",
       "    <tr>\n",
       "      <th>2</th>\n",
       "      <td>An atom is the basic building block of all mat...</td>\n",
       "      <td></td>\n",
       "      <td>Describe the structure of an atom.</td>\n",
       "    </tr>\n",
       "    <tr>\n",
       "      <th>3</th>\n",
       "      <td>There are several ways to reduce air pollution...</td>\n",
       "      <td></td>\n",
       "      <td>How can we reduce air pollution?</td>\n",
       "    </tr>\n",
       "    <tr>\n",
       "      <th>4</th>\n",
       "      <td>I had to make a difficult decision when I was ...</td>\n",
       "      <td></td>\n",
       "      <td>Pretend you are a project manager of a constru...</td>\n",
       "    </tr>\n",
       "    <tr>\n",
       "      <th>5</th>\n",
       "      <td>The Commodore 64 was a highly successful 8-bit...</td>\n",
       "      <td></td>\n",
       "      <td>Write a concise summary of the following:\\n\"Co...</td>\n",
       "    </tr>\n",
       "    <tr>\n",
       "      <th>6</th>\n",
       "      <td>The fraction 4/16 is equivalent to 1/4 because...</td>\n",
       "      <td>4/16</td>\n",
       "      <td>Explain why the following fraction is equivale...</td>\n",
       "    </tr>\n",
       "    <tr>\n",
       "      <th>7</th>\n",
       "      <td>Sophie sat at her desk, staring blankly at the...</td>\n",
       "      <td></td>\n",
       "      <td>Write a short story in third person narration ...</td>\n",
       "    </tr>\n",
       "    <tr>\n",
       "      <th>8</th>\n",
       "      <td>There are two spelling errors in the sentence....</td>\n",
       "      <td>He finnished his meal and left the resturant</td>\n",
       "      <td>Evaluate this sentence for spelling and gramma...</td>\n",
       "    </tr>\n",
       "    <tr>\n",
       "      <th>9</th>\n",
       "      <td>Julius Caesar, the Roman Military general, and...</td>\n",
       "      <td></td>\n",
       "      <td>How did Julius Caesar die?</td>\n",
       "    </tr>\n",
       "  </tbody>\n",
       "</table>\n",
       "</div>"
      ],
      "text/plain": [
       "                                              output  \\\n",
       "0  1. Eat a balanced and nutritious diet: Make su...   \n",
       "1  The three primary colors are red, blue, and ye...   \n",
       "2  An atom is the basic building block of all mat...   \n",
       "3  There are several ways to reduce air pollution...   \n",
       "4  I had to make a difficult decision when I was ...   \n",
       "5  The Commodore 64 was a highly successful 8-bit...   \n",
       "6  The fraction 4/16 is equivalent to 1/4 because...   \n",
       "7  Sophie sat at her desk, staring blankly at the...   \n",
       "8  There are two spelling errors in the sentence....   \n",
       "9  Julius Caesar, the Roman Military general, and...   \n",
       "\n",
       "                                          input  \\\n",
       "0                                                 \n",
       "1                                                 \n",
       "2                                                 \n",
       "3                                                 \n",
       "4                                                 \n",
       "5                                                 \n",
       "6                                          4/16   \n",
       "7                                                 \n",
       "8  He finnished his meal and left the resturant   \n",
       "9                                                 \n",
       "\n",
       "                                         instruction  \n",
       "0               Give three tips for staying healthy.  \n",
       "1                 What are the three primary colors?  \n",
       "2                 Describe the structure of an atom.  \n",
       "3                   How can we reduce air pollution?  \n",
       "4  Pretend you are a project manager of a constru...  \n",
       "5  Write a concise summary of the following:\\n\"Co...  \n",
       "6  Explain why the following fraction is equivale...  \n",
       "7  Write a short story in third person narration ...  \n",
       "8  Evaluate this sentence for spelling and gramma...  \n",
       "9                         How did Julius Caesar die?  "
      ]
     },
     "execution_count": 8,
     "metadata": {},
     "output_type": "execute_result"
    }
   ],
   "source": [
    "dataframe1 = dataframe[0:10]\n",
    "dataframe1"
   ]
  },
  {
   "cell_type": "markdown",
   "metadata": {},
   "source": [
    "### Create Task for Asyncio"
   ]
  },
  {
   "cell_type": "code",
   "execution_count": 124,
   "metadata": {},
   "outputs": [],
   "source": [
    "async def translate_column_ollama(dataframe1, column_name):\n",
    "    tasks = [translate_to_thai(row) for row in dataframe1[column_name] if len(row) > 0]\n",
    "    translations = await asyncio.gather(*tasks)\n",
    "    dataframe1.loc[dataframe1[column_name].apply(len) > 0, column_name] = translations"
   ]
  },
  {
   "cell_type": "markdown",
   "metadata": {},
   "source": [
    "### Excute Task and Translations"
   ]
  },
  {
   "cell_type": "code",
   "execution_count": 125,
   "metadata": {},
   "outputs": [
    {
     "name": "stderr",
     "output_type": "stream",
     "text": [
      "C:\\Users\\origi\\AppData\\Local\\Temp\\ipykernel_4644\\3257845081.py:4: SettingWithCopyWarning: \n",
      "A value is trying to be set on a copy of a slice from a DataFrame\n",
      "\n",
      "See the caveats in the documentation: https://pandas.pydata.org/pandas-docs/stable/user_guide/indexing.html#returning-a-view-versus-a-copy\n",
      "  dataframe1.loc[dataframe1[column_name].apply(len) > 0, column_name] = translations\n"
     ]
    },
    {
     "name": "stdout",
     "output_type": "stream",
     "text": [
      "finally\n"
     ]
    }
   ],
   "source": [
    "await asyncio.gather(\n",
    "        translate_column_ollama(dataframe1, 'input'),\n",
    "        translate_column_ollama(dataframe1, 'output'),\n",
    "        translate_column_ollama(dataframe1, 'instruction')\n",
    "    )\n",
    "print('finally')"
   ]
  },
  {
   "cell_type": "markdown",
   "metadata": {},
   "source": [
    "### Check Output"
   ]
  },
  {
   "cell_type": "code",
   "execution_count": 131,
   "metadata": {},
   "outputs": [
    {
     "data": {
      "text/html": [
       "<div>\n",
       "<style scoped>\n",
       "    .dataframe tbody tr th:only-of-type {\n",
       "        vertical-align: middle;\n",
       "    }\n",
       "\n",
       "    .dataframe tbody tr th {\n",
       "        vertical-align: top;\n",
       "    }\n",
       "\n",
       "    .dataframe thead th {\n",
       "        text-align: right;\n",
       "    }\n",
       "</style>\n",
       "<table border=\"1\" class=\"dataframe\">\n",
       "  <thead>\n",
       "    <tr style=\"text-align: right;\">\n",
       "      <th></th>\n",
       "      <th>output</th>\n",
       "      <th>input</th>\n",
       "      <th>instruction</th>\n",
       "    </tr>\n",
       "  </thead>\n",
       "  <tbody>\n",
       "    <tr>\n",
       "      <th>0</th>\n",
       "      <td>สร้างรายการที่จำเป็น 3 อย่างสำหรับชีวิตที่ดีที...</td>\n",
       "      <td></td>\n",
       "      <td>ให้สามคำแนะนำสำหรับการดูแลสุขภาพ</td>\n",
       "    </tr>\n",
       "    <tr>\n",
       "      <th>1</th>\n",
       "      <td>สีหลัก 3 สีที่สำคัญคือ แดง เขียว น้ำเงิน สีต่า...</td>\n",
       "      <td></td>\n",
       "      <td>อะไรคือสีสามสีที่เป็นฐาน</td>\n",
       "    </tr>\n",
       "    <tr>\n",
       "      <th>2</th>\n",
       "      <td>แอตรอน (Atom) คือปัจจัยพื้นฐานของวัสดุและประกอ...</td>\n",
       "      <td></td>\n",
       "      <td>อธิบายโครงสร้างของอะตอม</td>\n",
       "    </tr>\n",
       "    <tr>\n",
       "      <th>3</th>\n",
       "      <td>ข้อควรทำ 6 ข้อในการลดมลพิษทางอากาศ ได้แก่:\\n\\n...</td>\n",
       "      <td></td>\n",
       "      <td>วิธีการลดมลพิษทางอากาศได้อย่างไร?</td>\n",
       "    </tr>\n",
       "    <tr>\n",
       "      <th>4</th>\n",
       "      <td>ฉันต้องตัดสินใจที่ยากลำบากเมื่อทำงานเป็นผู้จัด...</td>\n",
       "      <td></td>\n",
       "      <td>เมื่อครั้งหนึ่งมีงานก่อสร้างที่ต้องดำเนินการใน...</td>\n",
       "    </tr>\n",
       "  </tbody>\n",
       "</table>\n",
       "</div>"
      ],
      "text/plain": [
       "                                              output input  \\\n",
       "0  สร้างรายการที่จำเป็น 3 อย่างสำหรับชีวิตที่ดีที...         \n",
       "1  สีหลัก 3 สีที่สำคัญคือ แดง เขียว น้ำเงิน สีต่า...         \n",
       "2  แอตรอน (Atom) คือปัจจัยพื้นฐานของวัสดุและประกอ...         \n",
       "3  ข้อควรทำ 6 ข้อในการลดมลพิษทางอากาศ ได้แก่:\\n\\n...         \n",
       "4  ฉันต้องตัดสินใจที่ยากลำบากเมื่อทำงานเป็นผู้จัด...         \n",
       "\n",
       "                                         instruction  \n",
       "0                   ให้สามคำแนะนำสำหรับการดูแลสุขภาพ  \n",
       "1                           อะไรคือสีสามสีที่เป็นฐาน  \n",
       "2                            อธิบายโครงสร้างของอะตอม  \n",
       "3                  วิธีการลดมลพิษทางอากาศได้อย่างไร?  \n",
       "4  เมื่อครั้งหนึ่งมีงานก่อสร้างที่ต้องดำเนินการใน...  "
      ]
     },
     "execution_count": 131,
     "metadata": {},
     "output_type": "execute_result"
    }
   ],
   "source": [
    "dataframe1.head()"
   ]
  },
  {
   "cell_type": "markdown",
   "metadata": {},
   "source": [
    "### Convert Back to Dataset"
   ]
  },
  {
   "cell_type": "code",
   "execution_count": 127,
   "metadata": {},
   "outputs": [],
   "source": [
    "from datasets import Dataset\n",
    "dataset = Dataset.from_pandas(df=dataframe1)"
   ]
  },
  {
   "cell_type": "markdown",
   "metadata": {},
   "source": [
    "### Convert Dataset into Training Template"
   ]
  },
  {
   "cell_type": "code",
   "execution_count": 128,
   "metadata": {},
   "outputs": [],
   "source": [
    "chat = \"\"\"<|im_start|>system\n",
    "{SYSTEM}<|im_end|>\n",
    "<|im_start|>user\n",
    "{INPUT}<|im_end|>\n",
    "<|im_start|>assistant\n",
    "{OUTPUT}<|im_end|>\"\"\"\n",
    "\n",
    "# EOS_TOKEN = tokenizer.eos_token\n",
    "def Formating(examples):\n",
    "    instructions = examples[\"instruction\"]\n",
    "    inputs       = examples[\"input\"]\n",
    "    outputs      = examples[\"output\"]\n",
    "    texts = []\n",
    "    for instruction, input, output in zip(instructions, inputs, outputs):\n",
    "        # Must add EOS_TOKEN, otherwise your generation will go on forever!\n",
    "        text = chat.format(SYSTEM=instruction, INPUT=input, OUTPUT=output) #+ EOS_TOKEN\n",
    "        texts.append(text)\n",
    "    return { \"text\" : texts, }\n",
    "pass"
   ]
  },
  {
   "cell_type": "markdown",
   "metadata": {},
   "source": [
    "### Map Template with Dataset"
   ]
  },
  {
   "cell_type": "code",
   "execution_count": 129,
   "metadata": {},
   "outputs": [
    {
     "data": {
      "application/vnd.jupyter.widget-view+json": {
       "model_id": "d0fcccde9fe64f69a7e0a86977147e74",
       "version_major": 2,
       "version_minor": 0
      },
      "text/plain": [
       "Map:   0%|          | 0/10 [00:00<?, ? examples/s]"
      ]
     },
     "metadata": {},
     "output_type": "display_data"
    }
   ],
   "source": [
    "dataset = dataset.map(Formating,batched=True)"
   ]
  },
  {
   "cell_type": "markdown",
   "metadata": {},
   "source": [
    "### Result"
   ]
  },
  {
   "cell_type": "code",
   "execution_count": 133,
   "metadata": {},
   "outputs": [
    {
     "name": "stdout",
     "output_type": "stream",
     "text": [
      "<|im_start|>system\n",
      "อธิบายโครงสร้างของอะตอม<|im_end|>\n",
      "<|im_start|>user\n",
      "<|im_end|>\n",
      "<|im_start|>assistant\n",
      "แอตรอน (Atom) คือปัจจัยพื้นฐานของวัสดุและประกอบด้วยสสารสามชนิด ได้แก่ โปรตอน นิวตรอน และอิเล็กตรอน โครงสร้างของแอตรอนสามารถอธิบายได้ว่าเป็นศูนย์กลางที่มีโปรตอนและนิวตรอนอยู่ในบริเวณนั้น และมีอิเล็กตรอนห้าบรรจุเก็บพอดี (electron cloud) ตลอดออกไปจากศูนย์กลางของแอตรอน โปรตอนเป็นอิเล็กทรอนชนิดที่มีประจุกำลังบวก ส่วนนิวตรอนที่ไม่มีประจุขั้น\n",
      "\n",
      "บริเวณศูนย์กลางของแอตรอนที่ประกอบด้วยโปรตอนและนิวตรอน โดยโปรตอนดังกล่าวเป็นกระแสไฟฟ้าบวกที่มีผลกระทบต่อการทำงานของแอตรอน ส่วนนิวตรอนไม่มีสภาวะประจุใดๆ ทั้งสิ้น และอยู่ห่างออกไปจากศูนย์กลางของแอตรอน\n",
      "\n",
      "บริเวณรอบ ๆ ศูนย์กลางของแอตรอนที่ประกอบด้วยกลุ่มอิเล็กตรอน (electron cloud) ส่วนใหญ่ๆ อิเล็กตรอนเหล่านี้จะมีประจุไฟฟ้าลบ มีการเคลื่อนที่อย่างต่อเนื่อง และแบ่งออกเป็นชั้นหรือวงโคจร (shells หรือ orbitals) โดยแต่ละชั้นสามารถเก็บอิเล็กตรอนได้จำนวนหนึ่ง\n",
      "\n",
      "ส่วนชั้นภายนอกที่เรียกว่า ชั้นวาเลนซ์ (valence shell) จะมีอิทธิพลต่อสมบัติทางเคมีของแอตรอนดังกล่าว โดยเฉพาะอย่างยิ่งในแอตรอนที่เป็นกลาง อัตราส่วนโปรตอนในศูนย์กลางจะมีความเท่ากับจำนวนอิเล็กตรอนรอบ ๆ ศูนย์กลาง ส่งผลให้ไม่มีประจุไฟฟ้าใดๆ ทั้งสิ้น และแอตรอนดังกล่าวจะไม่มีประจุกำลังด้วย<|im_end|>\n"
     ]
    }
   ],
   "source": [
    "print(dataset['text'][2])"
   ]
  }
 ],
 "metadata": {
  "kernelspec": {
   "display_name": "AI",
   "language": "python",
   "name": "python3"
  },
  "language_info": {
   "codemirror_mode": {
    "name": "ipython",
    "version": 3
   },
   "file_extension": ".py",
   "mimetype": "text/x-python",
   "name": "python",
   "nbconvert_exporter": "python",
   "pygments_lexer": "ipython3",
   "version": "3.11.9"
  }
 },
 "nbformat": 4,
 "nbformat_minor": 2
}
